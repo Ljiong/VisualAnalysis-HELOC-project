{
 "cells": [
  {
   "cell_type": "code",
   "execution_count": 1,
   "metadata": {
    "pycharm": {
     "name": "#%%\n"
    }
   },
   "outputs": [],
   "source": [
    "#Based on tutorial: https://machinelearningmastery.com/random-forest-ensemble-in-python/\n",
    "#Run this code before you can classify\n",
    "\n",
    "# Use numpy to convert to arrays\n",
    "import numpy as np\n",
    "from numpy import mean, std\n",
    "\n",
    "# Pandas is used for data manipulation\n",
    "import pandas as pd\n",
    "\n",
    "# Using Skicit-learn to split data into training and testing sets\n",
    "from sklearn.model_selection import train_test_split\n",
    "\n",
    "# Import the model we are using\n",
    "from sklearn.ensemble import RandomForestClassifier\n",
    "\n",
    "from sklearn.model_selection import cross_val_score, RepeatedStratifiedKFold\n",
    "\n",
    "def buildModel(features, labelDimension) :\n",
    "    # Labels are the values we want to predict\n",
    "    labels = np.array(features[labelDimension])\n",
    "    # Remove the labels from the features\n",
    "    # axis 1 refers to the columns\n",
    "    features= features.drop(labelDimension, axis = 1)\n",
    "\n",
    "    # Convert to numpy array\n",
    "    features = np.array(features)\n",
    "\n",
    "    # Split the data into training and testing sets (heavily overfit on provided dataset to get as close as possible to the original model)\n",
    "    train_features, test_features, train_labels, test_labels = train_test_split(features, labels, test_size = 0.30)\n",
    "\n",
    "    print('Training Features Shape:', train_features.shape)\n",
    "    print('Training Labels Shape:', train_labels.shape)\n",
    "    print('Testing Features Shape:', test_features.shape)\n",
    "    print('Testing Labels Shape:', test_labels.shape)\n",
    "\n",
    "    # Instantiate model with 1000 decision trees\n",
    "    rf = RandomForestClassifier(n_estimators = 1500)\n",
    "    # Train the model on training data\n",
    "    rf.fit(train_features, train_labels)\n",
    "\n",
    "    #evaluate the model\n",
    "    cv = RepeatedStratifiedKFold(n_splits=10, n_repeats=1)\n",
    "    n_scores = cross_val_score(rf, features, labels, scoring='accuracy', cv=cv, n_jobs=-1, error_score='raise')\n",
    "\n",
    "    print(\"done!\")\n",
    "    print(\"evaluating:\")\n",
    "\n",
    "    # report performance\n",
    "    print(n_scores)\n",
    "    print('Accuracy: %.3f (%.3f)' % (mean(n_scores), std(n_scores)))\n",
    "\n",
    "    return rf"
   ]
  },
  {
   "cell_type": "code",
   "execution_count": 3,
   "metadata": {
    "pycharm": {
     "name": "#%%\n"
    }
   },
   "outputs": [
    {
     "name": "stdout",
     "output_type": "stream",
     "text": [
      "Training Features Shape: (7321, 23)\n",
      "Training Labels Shape: (7321,)\n",
      "Testing Features Shape: (3138, 23)\n",
      "Testing Labels Shape: (3138,)\n",
      "done!\n",
      "evaluating:\n",
      "[0.73900574 0.71510516 0.71797323 0.70076482 0.72179732 0.73231358\n",
      " 0.74665392 0.70650096 0.71988528 0.71961722]\n",
      "Accuracy: 0.722 (0.013)\n"
     ]
    }
   ],
   "source": [
    "#load in the dataset\n",
    "features = pd.read_csv('F:\\\\study\\\\visual analytics\\\\4. Explaining HELOC\\\\data\\\\heloc_dataset_v1.csv')\n",
    "\n",
    "#the columns that stores the labels\n",
    "labelDimension = \"RiskPerformance\"\n",
    "\n",
    "#build a random forest classifier\n",
    "model = buildModel(features, labelDimension)"
   ]
  },
  {
   "cell_type": "code",
   "execution_count": 4,
   "metadata": {
    "pycharm": {
     "name": "#%%\n"
    }
   },
   "outputs": [
    {
     "name": "stdout",
     "output_type": "stream",
     "text": [
      "['Bad']\n"
     ]
    }
   ],
   "source": [
    "#get the first datarow of the dataset\n",
    "row = features.loc[0,:]\n",
    "\n",
    "#remove the label column (first column)\n",
    "instance = row[1:len(row)]\n",
    "\n",
    "# Use the forest's predict method on the test data\n",
    "prediction = model.predict(instance.to_numpy().reshape(1,-1))\n",
    "\n",
    "#print prediction\n",
    "print(prediction)"
   ]
  },
  {
   "cell_type": "code",
   "execution_count": null,
   "metadata": {
    "pycharm": {
     "name": "#%%\n"
    }
   },
   "outputs": [],
   "source": []
  }
 ],
 "metadata": {
  "kernelspec": {
   "display_name": "Python 3 (ipykernel)",
   "language": "python",
   "name": "python3"
  },
  "language_info": {
   "codemirror_mode": {
    "name": "ipython",
    "version": 3
   },
   "file_extension": ".py",
   "mimetype": "text/x-python",
   "name": "python",
   "nbconvert_exporter": "python",
   "pygments_lexer": "ipython3",
   "version": "3.9.7"
  }
 },
 "nbformat": 4,
 "nbformat_minor": 1
}
